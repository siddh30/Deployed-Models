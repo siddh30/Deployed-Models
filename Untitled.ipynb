{
 "cells": [
  {
   "cell_type": "code",
   "execution_count": 10,
   "id": "dadf1cb6",
   "metadata": {},
   "outputs": [],
   "source": [
    "import os\n",
    "\n",
    "from os import walk\n",
    "\n",
    "f = []\n",
    "dir_path = []\n",
    "dir_names = []\n",
    "for (dirpath, dirnames, filenames) in walk(os.getcwd()):\n",
    "    dir_path.append(dirpath)\n",
    "    dir_names.append(dirnames)\n",
    "    f.extend(filenames)\n",
    "    break"
   ]
  },
  {
   "cell_type": "code",
   "execution_count": 11,
   "id": "0f951d07",
   "metadata": {},
   "outputs": [
    {
     "data": {
      "text/plain": [
       "['.DS_Store', 'Home.py', 'Untitled.ipynb', 'README.md', 'utils.py']"
      ]
     },
     "execution_count": 11,
     "metadata": {},
     "output_type": "execute_result"
    }
   ],
   "source": [
    "f"
   ]
  },
  {
   "cell_type": "raw",
   "id": "7f69792b",
   "metadata": {},
   "source": [
    "dir_names"
   ]
  },
  {
   "cell_type": "code",
   "execution_count": 19,
   "id": "e6d97c9c",
   "metadata": {},
   "outputs": [
    {
     "data": {
      "text/plain": [
       "'/Users/siddharthmandgi/Desktop/Data-Science-Universe/Projects/Deployed-Models/images'"
      ]
     },
     "execution_count": 19,
     "metadata": {},
     "output_type": "execute_result"
    }
   ],
   "source": [
    "dir_path[0]+'/images'"
   ]
  },
  {
   "cell_type": "code",
   "execution_count": 21,
   "id": "3d8cefef",
   "metadata": {},
   "outputs": [
    {
     "data": {
      "text/plain": [
       "'/Users/siddharthmandgi/Desktop/Data-Science-Universe/Projects/Deployed-Models/images'"
      ]
     },
     "execution_count": 21,
     "metadata": {},
     "output_type": "execute_result"
    }
   ],
   "source": [
    "os.getcwd() +'/images'"
   ]
  },
  {
   "cell_type": "code",
   "execution_count": null,
   "id": "375fac42",
   "metadata": {},
   "outputs": [],
   "source": []
  }
 ],
 "metadata": {
  "kernelspec": {
   "display_name": "Python 3 (ipykernel)",
   "language": "python",
   "name": "python3"
  },
  "language_info": {
   "codemirror_mode": {
    "name": "ipython",
    "version": 3
   },
   "file_extension": ".py",
   "mimetype": "text/x-python",
   "name": "python",
   "nbconvert_exporter": "python",
   "pygments_lexer": "ipython3",
   "version": "3.8.6"
  }
 },
 "nbformat": 4,
 "nbformat_minor": 5
}
